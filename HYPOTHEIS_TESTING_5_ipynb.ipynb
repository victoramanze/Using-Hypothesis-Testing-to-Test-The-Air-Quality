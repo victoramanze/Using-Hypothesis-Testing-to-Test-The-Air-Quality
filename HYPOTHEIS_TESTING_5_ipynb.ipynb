{
  "nbformat": 4,
  "nbformat_minor": 0,
  "metadata": {
    "colab": {
      "provenance": []
    },
    "kernelspec": {
      "name": "python3",
      "display_name": "Python 3"
    },
    "language_info": {
      "name": "python"
    }
  },
  "cells": [
    {
      "cell_type": "markdown",
      "source": [
        "Introduction\n",
        "You work for an environmental think tank called Repair Our Air (ROA). ROA is formulating policy recommendations to improve the air quality in America, using the Environmental Protection Agency's Air Quality Index (AQI) to guide their decision making. An AQI value close to 0 signals \"little to no\" public health concern, while higher values are associated with increased risk to public health.\n",
        "\n",
        "They've tasked you with leveraging AQI data to help them prioritize their strategy for improving air quality in America.\n",
        "\n",
        "ROA is considering the following decisions. For each, construct a hypothesis test and an accompanying visualization, using your results of that test to make a recommendation:\n",
        "\n",
        "ROA is considering a metropolitan-focused approach. Within California, they want to know if the mean AQI in Los Angeles County is statistically different from the rest of California.\n",
        "With limited resources, ROA has to choose between New York and Ohio for their next regional office. Does New York have a lower AQI than Ohio?\n",
        "A new policy will affect those states with a mean AQI of 10 or greater. Can you rule out Michigan from being affected by this new policy?\n",
        "For your analysis, you'll default to a 95% level of significance."
      ],
      "metadata": {
        "id": "ZW737veXvUbJ"
      }
    },
    {
      "cell_type": "code",
      "source": [
        "import pandas as pd\n",
        "import numpy as np\n",
        "from scipy import stats"
      ],
      "metadata": {
        "id": "b7T_CyQJvW8Y"
      },
      "execution_count": null,
      "outputs": []
    },
    {
      "cell_type": "code",
      "source": [
        "pd.read_csv(\"c4 epa air dataset.csv\")"
      ],
      "metadata": {
        "colab": {
          "base_uri": "https://localhost:8080/",
          "height": 609
        },
        "id": "t0x8BozMvjvM",
        "outputId": "312d459f-ecb8-4ed5-df7b-45c80e79a708"
      },
      "execution_count": null,
      "outputs": [
        {
          "output_type": "execute_result",
          "data": {
            "text/plain": [
              "     Unnamed: 0  date_local            state_name           county_name  \\\n",
              "0             0  2018-01-01               Arizona              Maricopa   \n",
              "1             1  2018-01-01                  Ohio               Belmont   \n",
              "2             2  2018-01-01               Wyoming                 Teton   \n",
              "3             3  2018-01-01          Pennsylvania          Philadelphia   \n",
              "4             4  2018-01-01                  Iowa                  Polk   \n",
              "..          ...         ...                   ...                   ...   \n",
              "255         255  2018-01-01  District Of Columbia  District of Columbia   \n",
              "256         256  2018-01-01             Wisconsin                 Dodge   \n",
              "257         257  2018-01-01              Kentucky             Jefferson   \n",
              "258         258  2018-01-01              Nebraska               Douglas   \n",
              "259         259  2018-01-01        North Carolina                  Wake   \n",
              "\n",
              "         city_name                                    local_site_name  \\\n",
              "0          Buckeye                                            BUCKEYE   \n",
              "1        Shadyside                                          Shadyside   \n",
              "2    Not in a city  Yellowstone National Park - Old Faithful Snow ...   \n",
              "3     Philadelphia                             North East Waste (NEW)   \n",
              "4       Des Moines                                          CARPENTER   \n",
              "..             ...                                                ...   \n",
              "255     Washington                                          Near Road   \n",
              "256       Kekoskee                              HORICON WILDLIFE AREA   \n",
              "257     Louisville                                       CANNONS LANE   \n",
              "258          Omaha                                                NaN   \n",
              "259  Not in a city                                         Triple Oak   \n",
              "\n",
              "      parameter_name   units_of_measure  arithmetic_mean  aqi  \n",
              "0    Carbon monoxide  Parts per million         0.473684    7  \n",
              "1    Carbon monoxide  Parts per million         0.263158    5  \n",
              "2    Carbon monoxide  Parts per million         0.111111    2  \n",
              "3    Carbon monoxide  Parts per million         0.300000    3  \n",
              "4    Carbon monoxide  Parts per million         0.215789    3  \n",
              "..               ...                ...              ...  ...  \n",
              "255  Carbon monoxide  Parts per million         0.244444    3  \n",
              "256  Carbon monoxide  Parts per million         0.200000    2  \n",
              "257  Carbon monoxide  Parts per million         0.163158    2  \n",
              "258  Carbon monoxide  Parts per million         0.421053    9  \n",
              "259  Carbon monoxide  Parts per million         0.188889    2  \n",
              "\n",
              "[260 rows x 10 columns]"
            ],
            "text/html": [
              "\n",
              "  <div id=\"df-ae66b566-df18-48ed-8ade-327a940b2411\">\n",
              "    <div class=\"colab-df-container\">\n",
              "      <div>\n",
              "<style scoped>\n",
              "    .dataframe tbody tr th:only-of-type {\n",
              "        vertical-align: middle;\n",
              "    }\n",
              "\n",
              "    .dataframe tbody tr th {\n",
              "        vertical-align: top;\n",
              "    }\n",
              "\n",
              "    .dataframe thead th {\n",
              "        text-align: right;\n",
              "    }\n",
              "</style>\n",
              "<table border=\"1\" class=\"dataframe\">\n",
              "  <thead>\n",
              "    <tr style=\"text-align: right;\">\n",
              "      <th></th>\n",
              "      <th>Unnamed: 0</th>\n",
              "      <th>date_local</th>\n",
              "      <th>state_name</th>\n",
              "      <th>county_name</th>\n",
              "      <th>city_name</th>\n",
              "      <th>local_site_name</th>\n",
              "      <th>parameter_name</th>\n",
              "      <th>units_of_measure</th>\n",
              "      <th>arithmetic_mean</th>\n",
              "      <th>aqi</th>\n",
              "    </tr>\n",
              "  </thead>\n",
              "  <tbody>\n",
              "    <tr>\n",
              "      <th>0</th>\n",
              "      <td>0</td>\n",
              "      <td>2018-01-01</td>\n",
              "      <td>Arizona</td>\n",
              "      <td>Maricopa</td>\n",
              "      <td>Buckeye</td>\n",
              "      <td>BUCKEYE</td>\n",
              "      <td>Carbon monoxide</td>\n",
              "      <td>Parts per million</td>\n",
              "      <td>0.473684</td>\n",
              "      <td>7</td>\n",
              "    </tr>\n",
              "    <tr>\n",
              "      <th>1</th>\n",
              "      <td>1</td>\n",
              "      <td>2018-01-01</td>\n",
              "      <td>Ohio</td>\n",
              "      <td>Belmont</td>\n",
              "      <td>Shadyside</td>\n",
              "      <td>Shadyside</td>\n",
              "      <td>Carbon monoxide</td>\n",
              "      <td>Parts per million</td>\n",
              "      <td>0.263158</td>\n",
              "      <td>5</td>\n",
              "    </tr>\n",
              "    <tr>\n",
              "      <th>2</th>\n",
              "      <td>2</td>\n",
              "      <td>2018-01-01</td>\n",
              "      <td>Wyoming</td>\n",
              "      <td>Teton</td>\n",
              "      <td>Not in a city</td>\n",
              "      <td>Yellowstone National Park - Old Faithful Snow ...</td>\n",
              "      <td>Carbon monoxide</td>\n",
              "      <td>Parts per million</td>\n",
              "      <td>0.111111</td>\n",
              "      <td>2</td>\n",
              "    </tr>\n",
              "    <tr>\n",
              "      <th>3</th>\n",
              "      <td>3</td>\n",
              "      <td>2018-01-01</td>\n",
              "      <td>Pennsylvania</td>\n",
              "      <td>Philadelphia</td>\n",
              "      <td>Philadelphia</td>\n",
              "      <td>North East Waste (NEW)</td>\n",
              "      <td>Carbon monoxide</td>\n",
              "      <td>Parts per million</td>\n",
              "      <td>0.300000</td>\n",
              "      <td>3</td>\n",
              "    </tr>\n",
              "    <tr>\n",
              "      <th>4</th>\n",
              "      <td>4</td>\n",
              "      <td>2018-01-01</td>\n",
              "      <td>Iowa</td>\n",
              "      <td>Polk</td>\n",
              "      <td>Des Moines</td>\n",
              "      <td>CARPENTER</td>\n",
              "      <td>Carbon monoxide</td>\n",
              "      <td>Parts per million</td>\n",
              "      <td>0.215789</td>\n",
              "      <td>3</td>\n",
              "    </tr>\n",
              "    <tr>\n",
              "      <th>...</th>\n",
              "      <td>...</td>\n",
              "      <td>...</td>\n",
              "      <td>...</td>\n",
              "      <td>...</td>\n",
              "      <td>...</td>\n",
              "      <td>...</td>\n",
              "      <td>...</td>\n",
              "      <td>...</td>\n",
              "      <td>...</td>\n",
              "      <td>...</td>\n",
              "    </tr>\n",
              "    <tr>\n",
              "      <th>255</th>\n",
              "      <td>255</td>\n",
              "      <td>2018-01-01</td>\n",
              "      <td>District Of Columbia</td>\n",
              "      <td>District of Columbia</td>\n",
              "      <td>Washington</td>\n",
              "      <td>Near Road</td>\n",
              "      <td>Carbon monoxide</td>\n",
              "      <td>Parts per million</td>\n",
              "      <td>0.244444</td>\n",
              "      <td>3</td>\n",
              "    </tr>\n",
              "    <tr>\n",
              "      <th>256</th>\n",
              "      <td>256</td>\n",
              "      <td>2018-01-01</td>\n",
              "      <td>Wisconsin</td>\n",
              "      <td>Dodge</td>\n",
              "      <td>Kekoskee</td>\n",
              "      <td>HORICON WILDLIFE AREA</td>\n",
              "      <td>Carbon monoxide</td>\n",
              "      <td>Parts per million</td>\n",
              "      <td>0.200000</td>\n",
              "      <td>2</td>\n",
              "    </tr>\n",
              "    <tr>\n",
              "      <th>257</th>\n",
              "      <td>257</td>\n",
              "      <td>2018-01-01</td>\n",
              "      <td>Kentucky</td>\n",
              "      <td>Jefferson</td>\n",
              "      <td>Louisville</td>\n",
              "      <td>CANNONS LANE</td>\n",
              "      <td>Carbon monoxide</td>\n",
              "      <td>Parts per million</td>\n",
              "      <td>0.163158</td>\n",
              "      <td>2</td>\n",
              "    </tr>\n",
              "    <tr>\n",
              "      <th>258</th>\n",
              "      <td>258</td>\n",
              "      <td>2018-01-01</td>\n",
              "      <td>Nebraska</td>\n",
              "      <td>Douglas</td>\n",
              "      <td>Omaha</td>\n",
              "      <td>NaN</td>\n",
              "      <td>Carbon monoxide</td>\n",
              "      <td>Parts per million</td>\n",
              "      <td>0.421053</td>\n",
              "      <td>9</td>\n",
              "    </tr>\n",
              "    <tr>\n",
              "      <th>259</th>\n",
              "      <td>259</td>\n",
              "      <td>2018-01-01</td>\n",
              "      <td>North Carolina</td>\n",
              "      <td>Wake</td>\n",
              "      <td>Not in a city</td>\n",
              "      <td>Triple Oak</td>\n",
              "      <td>Carbon monoxide</td>\n",
              "      <td>Parts per million</td>\n",
              "      <td>0.188889</td>\n",
              "      <td>2</td>\n",
              "    </tr>\n",
              "  </tbody>\n",
              "</table>\n",
              "<p>260 rows × 10 columns</p>\n",
              "</div>\n",
              "      <button class=\"colab-df-convert\" onclick=\"convertToInteractive('df-ae66b566-df18-48ed-8ade-327a940b2411')\"\n",
              "              title=\"Convert this dataframe to an interactive table.\"\n",
              "              style=\"display:none;\">\n",
              "        \n",
              "  <svg xmlns=\"http://www.w3.org/2000/svg\" height=\"24px\"viewBox=\"0 0 24 24\"\n",
              "       width=\"24px\">\n",
              "    <path d=\"M0 0h24v24H0V0z\" fill=\"none\"/>\n",
              "    <path d=\"M18.56 5.44l.94 2.06.94-2.06 2.06-.94-2.06-.94-.94-2.06-.94 2.06-2.06.94zm-11 1L8.5 8.5l.94-2.06 2.06-.94-2.06-.94L8.5 2.5l-.94 2.06-2.06.94zm10 10l.94 2.06.94-2.06 2.06-.94-2.06-.94-.94-2.06-.94 2.06-2.06.94z\"/><path d=\"M17.41 7.96l-1.37-1.37c-.4-.4-.92-.59-1.43-.59-.52 0-1.04.2-1.43.59L10.3 9.45l-7.72 7.72c-.78.78-.78 2.05 0 2.83L4 21.41c.39.39.9.59 1.41.59.51 0 1.02-.2 1.41-.59l7.78-7.78 2.81-2.81c.8-.78.8-2.07 0-2.86zM5.41 20L4 18.59l7.72-7.72 1.47 1.35L5.41 20z\"/>\n",
              "  </svg>\n",
              "      </button>\n",
              "      \n",
              "  <style>\n",
              "    .colab-df-container {\n",
              "      display:flex;\n",
              "      flex-wrap:wrap;\n",
              "      gap: 12px;\n",
              "    }\n",
              "\n",
              "    .colab-df-convert {\n",
              "      background-color: #E8F0FE;\n",
              "      border: none;\n",
              "      border-radius: 50%;\n",
              "      cursor: pointer;\n",
              "      display: none;\n",
              "      fill: #1967D2;\n",
              "      height: 32px;\n",
              "      padding: 0 0 0 0;\n",
              "      width: 32px;\n",
              "    }\n",
              "\n",
              "    .colab-df-convert:hover {\n",
              "      background-color: #E2EBFA;\n",
              "      box-shadow: 0px 1px 2px rgba(60, 64, 67, 0.3), 0px 1px 3px 1px rgba(60, 64, 67, 0.15);\n",
              "      fill: #174EA6;\n",
              "    }\n",
              "\n",
              "    [theme=dark] .colab-df-convert {\n",
              "      background-color: #3B4455;\n",
              "      fill: #D2E3FC;\n",
              "    }\n",
              "\n",
              "    [theme=dark] .colab-df-convert:hover {\n",
              "      background-color: #434B5C;\n",
              "      box-shadow: 0px 1px 3px 1px rgba(0, 0, 0, 0.15);\n",
              "      filter: drop-shadow(0px 1px 2px rgba(0, 0, 0, 0.3));\n",
              "      fill: #FFFFFF;\n",
              "    }\n",
              "  </style>\n",
              "\n",
              "      <script>\n",
              "        const buttonEl =\n",
              "          document.querySelector('#df-ae66b566-df18-48ed-8ade-327a940b2411 button.colab-df-convert');\n",
              "        buttonEl.style.display =\n",
              "          google.colab.kernel.accessAllowed ? 'block' : 'none';\n",
              "\n",
              "        async function convertToInteractive(key) {\n",
              "          const element = document.querySelector('#df-ae66b566-df18-48ed-8ade-327a940b2411');\n",
              "          const dataTable =\n",
              "            await google.colab.kernel.invokeFunction('convertToInteractive',\n",
              "                                                     [key], {});\n",
              "          if (!dataTable) return;\n",
              "\n",
              "          const docLinkHtml = 'Like what you see? Visit the ' +\n",
              "            '<a target=\"_blank\" href=https://colab.research.google.com/notebooks/data_table.ipynb>data table notebook</a>'\n",
              "            + ' to learn more about interactive tables.';\n",
              "          element.innerHTML = '';\n",
              "          dataTable['output_type'] = 'display_data';\n",
              "          await google.colab.output.renderOutput(dataTable, element);\n",
              "          const docLink = document.createElement('div');\n",
              "          docLink.innerHTML = docLinkHtml;\n",
              "          element.appendChild(docLink);\n",
              "        }\n",
              "      </script>\n",
              "    </div>\n",
              "  </div>\n",
              "  "
            ]
          },
          "metadata": {},
          "execution_count": 2
        }
      ]
    },
    {
      "cell_type": "code",
      "source": [
        "ads = pd.read_csv(\"c4 epa air dataset.csv\")"
      ],
      "metadata": {
        "id": "1qS9hQE9vrRf"
      },
      "execution_count": null,
      "outputs": []
    },
    {
      "cell_type": "markdown",
      "source": [
        "show a sample of data\n",
        "\"Use describe() to summarize AQI\"For a more thorough examination of observations by state use values_counts()\")"
      ],
      "metadata": {
        "id": "CF3sUqDZwHln"
      }
    },
    {
      "cell_type": "code",
      "source": [
        "print(ads.head())\n",
        "print(ads.describe(include='all'))\n",
        "print(ads['state_name'].value_counts())"
      ],
      "metadata": {
        "colab": {
          "base_uri": "https://localhost:8080/"
        },
        "id": "1zTKlaIzvwfd",
        "outputId": "f7ed4289-5b59-4383-cb91-8cf0d93015cd"
      },
      "execution_count": null,
      "outputs": [
        {
          "output_type": "stream",
          "name": "stdout",
          "text": [
            "   Unnamed: 0  date_local    state_name   county_name      city_name  \\\n",
            "0           0  2018-01-01       Arizona      Maricopa        Buckeye   \n",
            "1           1  2018-01-01          Ohio       Belmont      Shadyside   \n",
            "2           2  2018-01-01       Wyoming         Teton  Not in a city   \n",
            "3           3  2018-01-01  Pennsylvania  Philadelphia   Philadelphia   \n",
            "4           4  2018-01-01          Iowa          Polk     Des Moines   \n",
            "\n",
            "                                     local_site_name   parameter_name  \\\n",
            "0                                            BUCKEYE  Carbon monoxide   \n",
            "1                                          Shadyside  Carbon monoxide   \n",
            "2  Yellowstone National Park - Old Faithful Snow ...  Carbon monoxide   \n",
            "3                             North East Waste (NEW)  Carbon monoxide   \n",
            "4                                          CARPENTER  Carbon monoxide   \n",
            "\n",
            "    units_of_measure  arithmetic_mean  aqi  \n",
            "0  Parts per million         0.473684    7  \n",
            "1  Parts per million         0.263158    5  \n",
            "2  Parts per million         0.111111    2  \n",
            "3  Parts per million         0.300000    3  \n",
            "4  Parts per million         0.215789    3  \n",
            "        Unnamed: 0  date_local  state_name  county_name      city_name  \\\n",
            "count   260.000000         260         260          260            260   \n",
            "unique         NaN           1          52          149            190   \n",
            "top            NaN  2018-01-01  California  Los Angeles  Not in a city   \n",
            "freq           NaN         260          66           14             21   \n",
            "mean    129.500000         NaN         NaN          NaN            NaN   \n",
            "std      75.199734         NaN         NaN          NaN            NaN   \n",
            "min       0.000000         NaN         NaN          NaN            NaN   \n",
            "25%      64.750000         NaN         NaN          NaN            NaN   \n",
            "50%     129.500000         NaN         NaN          NaN            NaN   \n",
            "75%     194.250000         NaN         NaN          NaN            NaN   \n",
            "max     259.000000         NaN         NaN          NaN            NaN   \n",
            "\n",
            "       local_site_name   parameter_name   units_of_measure  arithmetic_mean  \\\n",
            "count              257              260                260       260.000000   \n",
            "unique             253                1                  1              NaN   \n",
            "top            Kapolei  Carbon monoxide  Parts per million              NaN   \n",
            "freq                 2              260                260              NaN   \n",
            "mean               NaN              NaN                NaN         0.403169   \n",
            "std                NaN              NaN                NaN         0.317902   \n",
            "min                NaN              NaN                NaN         0.000000   \n",
            "25%                NaN              NaN                NaN         0.200000   \n",
            "50%                NaN              NaN                NaN         0.276315   \n",
            "75%                NaN              NaN                NaN         0.516009   \n",
            "max                NaN              NaN                NaN         1.921053   \n",
            "\n",
            "               aqi  \n",
            "count   260.000000  \n",
            "unique         NaN  \n",
            "top            NaN  \n",
            "freq           NaN  \n",
            "mean      6.757692  \n",
            "std       7.061707  \n",
            "min       0.000000  \n",
            "25%       2.000000  \n",
            "50%       5.000000  \n",
            "75%       9.000000  \n",
            "max      50.000000  \n",
            "California              66\n",
            "Arizona                 14\n",
            "Ohio                    12\n",
            "Florida                 12\n",
            "Texas                   10\n",
            "New York                10\n",
            "Pennsylvania            10\n",
            "Michigan                 9\n",
            "Colorado                 9\n",
            "Minnesota                7\n",
            "New Jersey               6\n",
            "Indiana                  5\n",
            "North Carolina           4\n",
            "Massachusetts            4\n",
            "Maryland                 4\n",
            "Oklahoma                 4\n",
            "Virginia                 4\n",
            "Nevada                   4\n",
            "Connecticut              4\n",
            "Kentucky                 3\n",
            "Missouri                 3\n",
            "Wyoming                  3\n",
            "Iowa                     3\n",
            "Hawaii                   3\n",
            "Utah                     3\n",
            "Vermont                  3\n",
            "Illinois                 3\n",
            "New Hampshire            2\n",
            "District Of Columbia     2\n",
            "New Mexico               2\n",
            "Montana                  2\n",
            "Oregon                   2\n",
            "Alaska                   2\n",
            "Georgia                  2\n",
            "Washington               2\n",
            "Idaho                    2\n",
            "Nebraska                 2\n",
            "Rhode Island             2\n",
            "Tennessee                2\n",
            "Maine                    2\n",
            "South Carolina           1\n",
            "Puerto Rico              1\n",
            "Arkansas                 1\n",
            "Kansas                   1\n",
            "Mississippi              1\n",
            "Alabama                  1\n",
            "Louisiana                1\n",
            "Delaware                 1\n",
            "South Dakota             1\n",
            "West Virginia            1\n",
            "North Dakota             1\n",
            "Wisconsin                1\n",
            "Name: state_name, dtype: int64\n"
          ]
        }
      ]
    },
    {
      "cell_type": "markdown",
      "source": [
        "From data exploration above, what do you recognize?¶\n",
        "You have county-level data for the first hypothesis.\n",
        "Ohio and New York both have a higher number of observations to work with in this dataset."
      ],
      "metadata": {
        "id": "zVQUMUzFwh8Q"
      }
    },
    {
      "cell_type": "markdown",
      "source": [
        "Before you proceed, recall the following steps for conducting hypothesis testing:\n",
        "\n",
        "Formulate the null hypothesis and the alternative hypothesis.\n",
        "Set the significance level.\n",
        "Determine the appropriate test procedure.\n",
        "Compute the p-value.\n",
        "Draw your conclusion."
      ],
      "metadata": {
        "id": "s-YYVakMwlVP"
      }
    },
    {
      "cell_type": "markdown",
      "source": [
        "# HYPOTHESIS 1\n",
        "\n",
        " ROA is considering a metropolitan-focused approach. Within California, they want to know if the mean AQI in Los Angeles County is statistically different from the rest of California"
      ],
      "metadata": {
        "id": "ERxLeVJnwsma"
      }
    },
    {
      "cell_type": "code",
      "source": [
        "ca_la = ads[ads['county_name']=='Los Angeles']\n",
        "ca_other = ads[(ads['state_name']=='California') & (ads['county_name']!='Los Angeles')]"
      ],
      "metadata": {
        "id": "nrlFGZJRwQiE"
      },
      "execution_count": null,
      "outputs": []
    },
    {
      "cell_type": "markdown",
      "source": [
        "Formulate your null and alternative hypotheses:\n",
        "\n",
        "𝐻0\n",
        " : There is no difference in the mean AQI between Los Angeles County and the rest of California.\n",
        "𝐻𝐴\n",
        " : There is a difference in the mean AQI between Los Angeles County and the rest of California."
      ],
      "metadata": {
        "id": "KxXpMLAqw-eu"
      }
    },
    {
      "cell_type": "markdown",
      "source": [
        "we will use 95% as the significant level"
      ],
      "metadata": {
        "id": "ra5Yp3K5xEaO"
      }
    },
    {
      "cell_type": "code",
      "source": [
        "significance_level = 0.95\n",
        "significance_level"
      ],
      "metadata": {
        "colab": {
          "base_uri": "https://localhost:8080/"
        },
        "id": "_EOcCq7Yw_7Z",
        "outputId": "bdefe3ab-9123-4fc6-d026-39e1d960c8f3"
      },
      "execution_count": null,
      "outputs": [
        {
          "output_type": "execute_result",
          "data": {
            "text/plain": [
              "0.95"
            ]
          },
          "metadata": {},
          "execution_count": 11
        }
      ]
    },
    {
      "cell_type": "markdown",
      "source": [
        "Determine the appropriate test procedure:\n",
        "Here, you are comparing the sample means between two independent samples. Therefore, you will utilize a two-sample 𝑡-test.\n",
        "\n",
        "Compute the P-value"
      ],
      "metadata": {
        "id": "q_J-5kjzxUme"
      }
    },
    {
      "cell_type": "code",
      "source": [
        "stats.ttest_ind(a=ca_la['aqi'], b=ca_other['aqi'], equal_var=False)"
      ],
      "metadata": {
        "colab": {
          "base_uri": "https://localhost:8080/"
        },
        "id": "kbdhUtx6xVc7",
        "outputId": "eb4bd1bc-0515-40a2-c521-7c725a19e013"
      },
      "execution_count": null,
      "outputs": [
        {
          "output_type": "execute_result",
          "data": {
            "text/plain": [
              "Ttest_indResult(statistic=2.1107010796372014, pvalue=0.049839056842410995)"
            ]
          },
          "metadata": {},
          "execution_count": 13
        }
      ]
    },
    {
      "cell_type": "markdown",
      "source": [
        "Question 2. What is your P-value for hypothesis 1, and what does this indicate for your null hypothesis?\n",
        "With a p-value (0.049) being less than 0.05 (as your confidence level is 95%), reject the null hypothesis in favor of the alternative hypothesis.\n",
        "\n",
        "Therefore, a metropolitan strategy may make sense in this case."
      ],
      "metadata": {
        "id": "IVQmkRJbxjsR"
      }
    },
    {
      "cell_type": "markdown",
      "source": [
        "# Hypothesis 2:\n",
        " With limited resources, ROA has to choose between New York and Ohio for their next regional office. Does New York have a lower AQI than Ohio?¶"
      ],
      "metadata": {
        "id": "FV9-1z6ixoEC"
      }
    },
    {
      "cell_type": "code",
      "source": [
        "ny = ads[ads['state_name']=='New York']\n",
        "ohio = ads[ads['state_name']=='Ohio']"
      ],
      "metadata": {
        "id": "7tuSPV90xkv9"
      },
      "execution_count": null,
      "outputs": []
    },
    {
      "cell_type": "markdown",
      "source": [
        "Formulate your hypothesis:\n",
        "Formulate your null and alternative hypotheses:\n",
        "\n",
        "𝐻0\n",
        ": The mean AQI of New York is greater than or equal to that of Ohio.\n",
        "𝐻𝐴\n",
        ": The mean AQI of New York is below that of Ohio.\n",
        "\n",
        "\n",
        "significance level = 95%"
      ],
      "metadata": {
        "id": "CG4F4i2Nx3-N"
      }
    },
    {
      "cell_type": "markdown",
      "source": [
        "Determine the appropriate test procedure:\n",
        "Here, you are comparing the sample means between two independent samples in one direction. Therefore, you will utilize a two-sample 𝑡-test.\n",
        "\n",
        "Compute the P-value¶"
      ],
      "metadata": {
        "id": "FrJqkjGwyCMR"
      }
    },
    {
      "cell_type": "code",
      "source": [
        "tstat, pvalue = stats.ttest_ind(a=ny['aqi'], b=ohio['aqi'], alternative='less')\n",
        "print(tstat)\n",
        "print(pvalue)"
      ],
      "metadata": {
        "colab": {
          "base_uri": "https://localhost:8080/"
        },
        "id": "aguEHveSx98z",
        "outputId": "4f5c2d09-e081-48e7-a7da-02fa1ca2a3e6"
      },
      "execution_count": null,
      "outputs": [
        {
          "output_type": "stream",
          "name": "stdout",
          "text": [
            "-1.891850434703295\n",
            "0.03654034300840755\n"
          ]
        }
      ]
    },
    {
      "cell_type": "markdown",
      "source": [
        "# Question 3.\n",
        " What is your P-value for hypothesis 2, and what does this indicate for your null hypothesis?\n",
        "With a p-value (0.030) being less than 0.05 (as your confidence level is 95%) and a t-statistic < 0 (-2.02), reject the null hypothesis in favor of the alternative hypothesis.\n",
        "\n",
        "Therefore, you can conclude with 95% confidence that New York has a lower mean AQI than Ohio."
      ],
      "metadata": {
        "id": "_H77UcRzyPBw"
      }
    },
    {
      "cell_type": "markdown",
      "source": [
        "# Hypothesis 3:\n",
        "# A new policy will affect those states with a mean AQI of 10 or greater. Can you rule out Michigan from being affected by this new policy?\n",
        "Before proceeding with your analysis, it will be helpful to subset the data for your comparison."
      ],
      "metadata": {
        "id": "MJ8u_7vxyXD6"
      }
    },
    {
      "cell_type": "code",
      "source": [
        "michigan = ads[ads['state_name']=='Michigan']"
      ],
      "metadata": {
        "id": "hgg9iWmZyR2t"
      },
      "execution_count": null,
      "outputs": []
    },
    {
      "cell_type": "markdown",
      "source": [
        "Formulate your hypothesis:\n",
        "Formulate your null and alternative hypotheses here:\n",
        "\n",
        "𝐻0\n",
        ": The mean AQI of Michigan is less than or equal to 10.\n",
        "𝐻𝐴\n",
        ": The mean AQI of Michigan is greater than 10.\n",
        "\n",
        "\n",
        "\n",
        "\n",
        "sugnificane level remains at 95%"
      ],
      "metadata": {
        "id": "J0AAPXJiynPq"
      }
    },
    {
      "cell_type": "markdown",
      "source": [
        "Determine the appropriate test procedure:\n",
        "Here, you are comparing one sample mean relative to a particular value in one direction. Therefore, you will utilize a one-sample 𝑡-test."
      ],
      "metadata": {
        "id": "YW3_aIH3yu1_"
      }
    },
    {
      "cell_type": "code",
      "source": [
        "tstat, pvalue = stats.ttest_1samp(michigan['aqi'], 10, alternative='greater')\n",
        "print(tstat)\n",
        "print(pvalue)"
      ],
      "metadata": {
        "colab": {
          "base_uri": "https://localhost:8080/"
        },
        "id": "hPhbiHiTyrqR",
        "outputId": "2ce938b8-3c5a-442c-bf38-fbb8a90c7f35"
      },
      "execution_count": null,
      "outputs": [
        {
          "output_type": "stream",
          "name": "stdout",
          "text": [
            "-1.7395913343286131\n",
            "0.9399405193140109\n"
          ]
        }
      ]
    },
    {
      "cell_type": "markdown",
      "source": [
        "# Question 4.\n",
        " What is your P-value for hypothesis 3, and what does this indicate for your null hypothesis?\n",
        "With a p-value (0.060) being greater than 0.05 (as your confidence level is 95%) and a t-statistic < 0 (-1.73), fail to reject the null hypothesis.\n",
        "\n",
        "Therefore, you cannot conclude with 95% confidence that Michigan's mean AQI is below 10.\n",
        "\n",
        "Step 4. Results and Evaluation\n",
        "Now that you've completed your statistical tests, you can consider your hypotheses and the results you gathered.\n",
        "\n",
        "# Question 5.\n",
        "Did your results show that the AQI in Los Angeles County was statistically different from the rest of California?\n",
        "Yes, the results indicated that the AQI in Los Angeles County was in fact different from the rest of California.\n",
        "\n",
        "# Question 6.\n",
        " Did New York or Ohio have a lower AQI?\n",
        "Using a 95% significance level, you can conclude that New York has a lower AQI than Ohio based on the results.\n",
        "\n",
        "# Question 7:\n",
        " Will Michigan be affected by the new policy impacting states with a mean AQI of 10 or greater?\n",
        "Based on the tests, you would fail to reject the null hypothesis, meaning you can't conclude that the mean AQI is below 10. Thus, it is likely that Michigan would be affected by the new policy.\n",
        "\n",
        "# Conclusion\n",
        "What are key takeaways from this lab?\n",
        "\n",
        "Even with small sample sizes, the variation within the data is enough to allow you to make statistically significant conclusions. You identified with 95% confidence that the Los Angeles mean AQI was stastitically different from the rest of California, and that New York does have a lower mean AQI than Ohio. However, you were unable to conclude with 95% confidence that Michigan's mean AQI was below 10.\n",
        "\n",
        "# What would you consider presenting to your manager as part of your findings?\n",
        "\n",
        "For each test, you would present the null and alternative hypothesis, then describe your conclusion and the resulting p-value that drove that conclusion. As the setup of t-test's have a few key configurations that dictate how you interpret the result, you would specify the type of test you chose, whether that tail was one-tail or two-tailed, and how you performed the t-test from stats.\n",
        "\n",
        "# What would you convey to external stakeholders?\n",
        "\n",
        "In answer to the research questions posed, you would convey the degree of confidence (95%) and your conclusion. Additionally, providing the sample statistics being compared in each case will likely provide important context for stakeholders to quickly understand the difference between your results.\n",
        "\n"
      ],
      "metadata": {
        "id": "NOJPUS_uy4zK"
      }
    }
  ]
}